{
  "nbformat": 4,
  "nbformat_minor": 0,
  "metadata": {
    "colab": {
      "provenance": [],
      "authorship_tag": "ABX9TyNgwvJYCA42ADxVeXnzyWoV",
      "include_colab_link": true
    },
    "kernelspec": {
      "name": "python3",
      "display_name": "Python 3"
    },
    "language_info": {
      "name": "python"
    }
  },
  "cells": [
    {
      "cell_type": "markdown",
      "metadata": {
        "id": "view-in-github",
        "colab_type": "text"
      },
      "source": [
        "<a href=\"https://colab.research.google.com/github/nehxxa/Symbiosis_training_programs/blob/main/Python_basics_2.ipynb\" target=\"_parent\"><img src=\"https://colab.research.google.com/assets/colab-badge.svg\" alt=\"Open In Colab\"/></a>"
      ]
    },
    {
      "cell_type": "markdown",
      "source": [
        "A batch of 100 resistors have an average of 101.5 ohms assuming a population standard deviation of 5 ohms\\\n",
        "test whether the populaton mean is 100 ohms ata a level of significance 0.05\\\n",
        "compute the p value"
      ],
      "metadata": {
        "id": "dH_i3KjVP_Nc"
      }
    },
    {
      "cell_type": "markdown",
      "source": [
        "# Operations"
      ],
      "metadata": {
        "id": "yoHF5SAIapk3"
      }
    },
    {
      "cell_type": "code",
      "source": [
        "exp = '1+2*3/1'\n",
        "\n",
        "operators = [\"*\", \"/\",\"+\",\"-\"]\n",
        "operation = []\n",
        "temp = []\n",
        "for i in exp:\n",
        "      operation.append(i)\n",
        "\n",
        "print(operation)\n",
        "for i in range (len(operation)):\n",
        "    if operation[i] == \"*\":\n",
        "      temp[0]= (int(operation[i-1])*int(operation[i+1]))\n",
        "\n",
        "    if operation[i] == \"/\":\n",
        "      temp[0]= ((temp[0])/int(operation[i+1]))\n",
        "print(temp)\n",
        "#     if operation[i] == \"+\":\n",
        "#       temp.append(int(exp[i-1])+int(operation[i+1]))\n",
        "# print(temp)\n"
      ],
      "metadata": {
        "colab": {
          "base_uri": "https://localhost:8080/",
          "height": 238
        },
        "id": "1tTiEsGaQR6B",
        "outputId": "9fe3841a-745a-4047-aabf-141049ae099f"
      },
      "execution_count": null,
      "outputs": [
        {
          "output_type": "stream",
          "name": "stdout",
          "text": [
            "['1', '+', '2', '*', '3', '/', '1']\n"
          ]
        },
        {
          "output_type": "error",
          "ename": "IndexError",
          "evalue": "list assignment index out of range",
          "traceback": [
            "\u001b[0;31m---------------------------------------------------------------------------\u001b[0m",
            "\u001b[0;31mIndexError\u001b[0m                                Traceback (most recent call last)",
            "\u001b[0;32m<ipython-input-29-06df81522547>\u001b[0m in \u001b[0;36m<cell line: 10>\u001b[0;34m()\u001b[0m\n\u001b[1;32m     10\u001b[0m \u001b[0;32mfor\u001b[0m \u001b[0mi\u001b[0m \u001b[0;32min\u001b[0m \u001b[0mrange\u001b[0m \u001b[0;34m(\u001b[0m\u001b[0mlen\u001b[0m\u001b[0;34m(\u001b[0m\u001b[0moperation\u001b[0m\u001b[0;34m)\u001b[0m\u001b[0;34m)\u001b[0m\u001b[0;34m:\u001b[0m\u001b[0;34m\u001b[0m\u001b[0;34m\u001b[0m\u001b[0m\n\u001b[1;32m     11\u001b[0m     \u001b[0;32mif\u001b[0m \u001b[0moperation\u001b[0m\u001b[0;34m[\u001b[0m\u001b[0mi\u001b[0m\u001b[0;34m]\u001b[0m \u001b[0;34m==\u001b[0m \u001b[0;34m\"*\"\u001b[0m\u001b[0;34m:\u001b[0m\u001b[0;34m\u001b[0m\u001b[0;34m\u001b[0m\u001b[0m\n\u001b[0;32m---> 12\u001b[0;31m       \u001b[0mtemp\u001b[0m\u001b[0;34m[\u001b[0m\u001b[0;36m0\u001b[0m\u001b[0;34m]\u001b[0m\u001b[0;34m=\u001b[0m \u001b[0;34m(\u001b[0m\u001b[0mint\u001b[0m\u001b[0;34m(\u001b[0m\u001b[0moperation\u001b[0m\u001b[0;34m[\u001b[0m\u001b[0mi\u001b[0m\u001b[0;34m-\u001b[0m\u001b[0;36m1\u001b[0m\u001b[0;34m]\u001b[0m\u001b[0;34m)\u001b[0m\u001b[0;34m*\u001b[0m\u001b[0mint\u001b[0m\u001b[0;34m(\u001b[0m\u001b[0moperation\u001b[0m\u001b[0;34m[\u001b[0m\u001b[0mi\u001b[0m\u001b[0;34m+\u001b[0m\u001b[0;36m1\u001b[0m\u001b[0;34m]\u001b[0m\u001b[0;34m)\u001b[0m\u001b[0;34m)\u001b[0m\u001b[0;34m\u001b[0m\u001b[0;34m\u001b[0m\u001b[0m\n\u001b[0m\u001b[1;32m     13\u001b[0m \u001b[0;34m\u001b[0m\u001b[0m\n\u001b[1;32m     14\u001b[0m     \u001b[0;32mif\u001b[0m \u001b[0moperation\u001b[0m\u001b[0;34m[\u001b[0m\u001b[0mi\u001b[0m\u001b[0;34m]\u001b[0m \u001b[0;34m==\u001b[0m \u001b[0;34m\"/\"\u001b[0m\u001b[0;34m:\u001b[0m\u001b[0;34m\u001b[0m\u001b[0;34m\u001b[0m\u001b[0m\n",
            "\u001b[0;31mIndexError\u001b[0m: list assignment index out of range"
          ]
        }
      ]
    },
    {
      "cell_type": "markdown",
      "source": [
        "# Write a program to find all the characters which are repeated more than 5 times"
      ],
      "metadata": {
        "id": "d6FUW2H-RwUr"
      }
    },
    {
      "cell_type": "code",
      "source": [
        "sen = \"aaaaaaaabbbaa bbb cccc\"\n",
        "sen.lower()\n",
        "fre = 0\n",
        "dict1 = {}\n",
        "for i in sen:\n",
        "  for j in sen:\n",
        "    if i==j:\n",
        "      fre+=1\n",
        "  dict1[i]=fre\n",
        "  fre=0\n",
        "print(dict1)\n",
        "for i in dict1:\n",
        "  if dict1[i]>5:\n",
        "    print(i)\n",
        "\n",
        "\n",
        "\n"
      ],
      "metadata": {
        "colab": {
          "base_uri": "https://localhost:8080/"
        },
        "id": "JyFGPb79ZA-h",
        "outputId": "1a8e7c1e-7af7-4007-ae0e-0694b5e81f20"
      },
      "execution_count": null,
      "outputs": [
        {
          "output_type": "stream",
          "name": "stdout",
          "text": [
            "{'a': 10, 'b': 6, ' ': 2, 'c': 4}\n",
            "a\n",
            "b\n"
          ]
        }
      ]
    },
    {
      "cell_type": "markdown",
      "source": [
        "# Write a program to check whether 1st number is any power of second number"
      ],
      "metadata": {
        "id": "5I614weAa0uF"
      }
    },
    {
      "cell_type": "code",
      "source": [
        "list1 = [3,81]\n",
        "if list1[0]**i== list1[1]:\n",
        "  print(i)\n",
        "elif list1[0]**3== list1[1]:\n",
        "  print(3)\n",
        "elif list1[0]**4== list1[1]:\n",
        "  print(4)\n",
        "else:\n",
        "  print(False)"
      ],
      "metadata": {
        "colab": {
          "base_uri": "https://localhost:8080/"
        },
        "id": "lUNK44gHZkHP",
        "outputId": "06b5a865-db5c-4b43-84f4-1830ae40dd68"
      },
      "execution_count": null,
      "outputs": [
        {
          "output_type": "stream",
          "name": "stdout",
          "text": [
            "4\n"
          ]
        }
      ]
    },
    {
      "cell_type": "markdown",
      "source": [
        "# Write a program to find Nth power of number using recurssion. Do not use inbuilt function\n"
      ],
      "metadata": {
        "id": "NXZUe-KMcDPI"
      }
    },
    {
      "cell_type": "code",
      "source": [
        "num1 = int(input(\"Enter a number\"))\n",
        "num2 = int(input(\"Enter the power\"))\n",
        "def power(num1,num2):\n",
        "  if num2==0:\n",
        "    return 1\n",
        "  else:\n",
        "    return num1*power(num1,num2-1)\n",
        "print(power(num1,num2))"
      ],
      "metadata": {
        "colab": {
          "base_uri": "https://localhost:8080/"
        },
        "id": "EG7CQZtGiiXy",
        "outputId": "8b2b7409-f330-48f8-f260-80daa5fda15a"
      },
      "execution_count": null,
      "outputs": [
        {
          "output_type": "stream",
          "name": "stdout",
          "text": [
            "Enter a number5\n",
            "Enter the power5\n",
            "3125\n"
          ]
        }
      ]
    },
    {
      "cell_type": "markdown",
      "source": [
        "# Binary bits"
      ],
      "metadata": {
        "id": "_onZQsRDi8Q-"
      }
    },
    {
      "cell_type": "code",
      "source": [
        "def binary(n):\n",
        "  s = ''\n",
        "  s = bin(n)[2:]\n",
        "  return s\n",
        "binary(8)\n"
      ],
      "metadata": {
        "colab": {
          "base_uri": "https://localhost:8080/",
          "height": 36
        },
        "id": "Ao-sWb7hjDTe",
        "outputId": "76bf10a8-1010-4b61-e9b1-20e958fb7525"
      },
      "execution_count": null,
      "outputs": [
        {
          "output_type": "execute_result",
          "data": {
            "text/plain": [
              "'1000'"
            ],
            "application/vnd.google.colaboratory.intrinsic+json": {
              "type": "string"
            }
          },
          "metadata": {},
          "execution_count": 73
        }
      ]
    },
    {
      "cell_type": "markdown",
      "source": [
        "# Write a program to implement stack in python"
      ],
      "metadata": {
        "id": "35is00olkIY-"
      }
    },
    {
      "cell_type": "code",
      "source": [
        "from collections import deque\n",
        "\n",
        "stack = []\n",
        "stack.append(1)\n",
        "stack.append(2)\n",
        "stack.append(3)\n",
        "print(stack)\n",
        "stack.pop()\n",
        "print(stack)\n",
        "stack = deque()\n",
        "print(stack)\n",
        "stack.append(5)\n",
        "stack.append(6)\n",
        "stack.pop()\n",
        "list1 = [2,6,5,8,9]\n",
        "stack.append(list1)\n",
        "print(stack)\n",
        "stack.pop()"
      ],
      "metadata": {
        "colab": {
          "base_uri": "https://localhost:8080/"
        },
        "id": "GEE-7a-OeqXI",
        "outputId": "36a27880-7471-4217-a016-97514456ec88"
      },
      "execution_count": null,
      "outputs": [
        {
          "output_type": "stream",
          "name": "stdout",
          "text": [
            "[1, 2, 3]\n",
            "[1, 2]\n",
            "deque([])\n",
            "deque([5, [2, 6, 5, 8, 9]])\n"
          ]
        },
        {
          "output_type": "execute_result",
          "data": {
            "text/plain": [
              "[2, 6, 5, 8, 9]"
            ]
          },
          "metadata": {},
          "execution_count": 7
        }
      ]
    },
    {
      "cell_type": "code",
      "source": [
        "#write a program to implement stack in python (add pop push delete)\n",
        "stack = []\n",
        "\n",
        "def push():\n",
        "  n = int(input('enter the number of items: '))\n",
        "  for i in range(n):\n",
        "    item = input('enter the item: ')\n",
        "    stack.append(item)\n",
        "    print(stack)\n",
        "\n",
        "def pop():\n",
        "  stack.remove(stack[-1])\n",
        "  return stack\n",
        "\n",
        "def delete():\n",
        "  del stack[:]\n",
        "  print(stack)\n",
        "\n",
        "print('Items pushed' ,push())\n",
        "print('Items popped' ,pop())\n",
        "print('stack deleted',delete())"
      ],
      "metadata": {
        "colab": {
          "base_uri": "https://localhost:8080/"
        },
        "id": "3U6McQ9xeeLk",
        "outputId": "bf0f3d9e-c9ba-472d-c2c7-869afc11fd56"
      },
      "execution_count": null,
      "outputs": [
        {
          "output_type": "stream",
          "name": "stdout",
          "text": [
            "enter the number of items: 5\n",
            "enter the item: 9\n",
            "['9']\n",
            "enter the item: 6\n",
            "['9', '6']\n",
            "enter the item: 4\n",
            "['9', '6', '4']\n",
            "enter the item: 7\n",
            "['9', '6', '4', '7']\n",
            "enter the item: 1\n",
            "['9', '6', '4', '7', '1']\n",
            "Items pushed None\n",
            "Items popped ['9', '6', '4', '7']\n",
            "[]\n",
            "stack deleted None\n"
          ]
        }
      ]
    },
    {
      "cell_type": "markdown",
      "source": [
        "# linked list"
      ],
      "metadata": {
        "id": "5OLhS0hxgXty"
      }
    },
    {
      "cell_type": "code",
      "source": [
        "class Node:\n",
        "  def __init__ (self, data):\n",
        "    self.data = data\n",
        "    self.next = None\n",
        "\n",
        "class LinkedList:\n",
        "  def __init__(self):\n",
        "    self.head = None\n",
        "\n",
        "  def append(self, data):\n",
        "    new_node = Node(data)\n",
        "    if self.head==None:\n",
        "      self.head = new_node\n",
        "    else:\n",
        "      current = self.head\n",
        "      while current.next:\n",
        "        current = current.next\n",
        "      current.next = new_node\n",
        "  def display(self):\n",
        "    current = self.head\n",
        "    while current:\n",
        "      print(current.data)\n",
        "      current = current.next\n",
        "      print()\n",
        "\n",
        "my_list = LinkedList()\n",
        "my_list.append(1)\n",
        "my_list.append(2)\n",
        "my_list.append(3)\n",
        "my_list.display()"
      ],
      "metadata": {
        "colab": {
          "base_uri": "https://localhost:8080/"
        },
        "id": "fCTEKbdthiDJ",
        "outputId": "d4453f0f-a2e2-4e4d-b513-920f2d61ca02"
      },
      "execution_count": null,
      "outputs": [
        {
          "output_type": "stream",
          "name": "stdout",
          "text": [
            "1\n",
            "\n",
            "2\n",
            "\n",
            "3\n",
            "\n"
          ]
        }
      ]
    },
    {
      "cell_type": "markdown",
      "source": [
        "# Queue"
      ],
      "metadata": {
        "id": "vwoY1Trojafc"
      }
    },
    {
      "cell_type": "code",
      "source": [
        "def queue():\n",
        "  num = int(input(\"Enter total no. of items \"))\n",
        "  for i in range(num):\n",
        "    item = input(\"Enter the item \")\n",
        "    queue1.append(item)\n",
        "    print(queue1)\n",
        "\n",
        "def enque():\n",
        "  item = input(\"Enter the item \")\n",
        "  queue1.append(item)\n",
        "  print(queue1)\n",
        "\n",
        "def deque():\n",
        "  num2 = int(input(\"Enter number of elements to remove\"))\n",
        "  del queue1[0:(num2)]\n",
        "  print(queue1)\n",
        "\n",
        "queue1 = []\n",
        "print(\"Queue: \", queue())\n",
        "print(\"dequeuing: \", deque())"
      ],
      "metadata": {
        "colab": {
          "base_uri": "https://localhost:8080/"
        },
        "id": "7f-YDYdfpQdN",
        "outputId": "9e4d6c9c-3107-4a2c-bc58-6e2509f19e84"
      },
      "execution_count": null,
      "outputs": [
        {
          "output_type": "stream",
          "name": "stdout",
          "text": [
            "Enter total no. of items 3\n",
            "Enter the item 1\n",
            "['1']\n",
            "Enter the item 2\n",
            "['1', '2']\n",
            "Enter the item 3\n",
            "['1', '2', '3']\n",
            "Queue:  None\n",
            "Enter number of elements to remove2\n",
            "['3']\n",
            "dequeuing:  None\n"
          ]
        }
      ]
    },
    {
      "cell_type": "code",
      "source": [
        "291\n",
        "3"
      ],
      "metadata": {
        "id": "GaSoW19NqJaB"
      },
      "execution_count": null,
      "outputs": []
    },
    {
      "cell_type": "code",
      "source": [
        "class Solution(object):\n",
        "    def twoSum(self, nums, target):\n",
        "        for i in range (len(nums)):\n",
        "            for j in range (i+1,len(nums)):\n",
        "                if nums[i]+nums[j]==target:\n",
        "                    return i,j\n",
        "nums = [3,2,4]\n",
        "target = int(input(\"Enter target\"))\n",
        "solution = Solution()\n",
        "solution.twoSum(nums,target)"
      ],
      "metadata": {
        "id": "YSdWwxrGt9Ib",
        "colab": {
          "base_uri": "https://localhost:8080/"
        },
        "outputId": "e479fd77-64b2-4aae-a063-d49f23fa6ff4"
      },
      "execution_count": null,
      "outputs": [
        {
          "name": "stdout",
          "output_type": "stream",
          "text": [
            "Enter target6\n"
          ]
        },
        {
          "output_type": "execute_result",
          "data": {
            "text/plain": [
              "(1, 2)"
            ]
          },
          "metadata": {},
          "execution_count": 6
        }
      ]
    },
    {
      "cell_type": "markdown",
      "source": [
        "# Mutable objects in python"
      ],
      "metadata": {
        "id": "A9P9viS2L_Dn"
      }
    },
    {
      "cell_type": "code",
      "source": [
        "list_var = [17,15]\n",
        "print(id(list_var))\n",
        "list_var +=[10]\n",
        "list_var\n",
        "print(id(list_var))\n",
        "# List id remains same since it's mutable"
      ],
      "metadata": {
        "colab": {
          "base_uri": "https://localhost:8080/"
        },
        "id": "1RAnUq6Hf4Yx",
        "outputId": "e4502664-9bd4-4182-f631-d6fe62613656"
      },
      "execution_count": null,
      "outputs": [
        {
          "output_type": "stream",
          "name": "stdout",
          "text": [
            "134068425436160\n",
            "134068425436160\n"
          ]
        }
      ]
    },
    {
      "cell_type": "markdown",
      "source": [
        "# Immutable objects in python: tuple, string, bytes, frozen sets"
      ],
      "metadata": {
        "id": "c4ztFMIlf_lj"
      }
    },
    {
      "cell_type": "code",
      "source": [
        "tuple_var = (17,15)\n",
        "print(id(tuple_var))\n",
        "tuple_var += (10,)\n",
        "tuple_var\n",
        "print(id(tuple_var))\n",
        "# Tuple id changes since it's immutable"
      ],
      "metadata": {
        "colab": {
          "base_uri": "https://localhost:8080/"
        },
        "id": "lLG_df_7gzb1",
        "outputId": "b61aa45e-b7cb-4fdc-8701-14850f612014"
      },
      "execution_count": null,
      "outputs": [
        {
          "output_type": "stream",
          "name": "stdout",
          "text": [
            "134067850128064\n",
            "134068425064704\n"
          ]
        }
      ]
    },
    {
      "cell_type": "markdown",
      "source": [
        "# Mutable objects function arugement"
      ],
      "metadata": {
        "id": "Tccvix1Lg3s6"
      }
    },
    {
      "cell_type": "code",
      "source": [
        "def sample_function (list1):\n",
        "  list1.append(10)\n",
        "  return list1\n",
        "list1 = [1,2,3]\n",
        "sample_function(list1)"
      ],
      "metadata": {
        "colab": {
          "base_uri": "https://localhost:8080/"
        },
        "id": "ykUTpr2Jhn3k",
        "outputId": "0e0c0f42-13aa-4e32-feb1-e2dcf307b257"
      },
      "execution_count": null,
      "outputs": [
        {
          "output_type": "execute_result",
          "data": {
            "text/plain": [
              "[1, 2, 3, 10]"
            ]
          },
          "metadata": {},
          "execution_count": 9
        }
      ]
    },
    {
      "cell_type": "markdown",
      "source": [
        "# Memory allocation for tuples and list"
      ],
      "metadata": {
        "id": "1uOKsPdWhzCX"
      }
    },
    {
      "cell_type": "code",
      "source": [
        "# Tuple\n",
        "tuple_var = tuple()\n",
        "print(tuple_var.__sizeof__())\n",
        "tuple_var = (2.0,)\n",
        "print(tuple_var.__sizeof__())"
      ],
      "metadata": {
        "colab": {
          "base_uri": "https://localhost:8080/"
        },
        "id": "RbjtiIPVjVZc",
        "outputId": "a44bb70d-0621-40c1-8415-d85b5b613c8d"
      },
      "execution_count": null,
      "outputs": [
        {
          "output_type": "stream",
          "name": "stdout",
          "text": [
            "24\n",
            "32\n"
          ]
        }
      ]
    },
    {
      "cell_type": "code",
      "source": [
        "# List\n",
        "list_var = list()\n",
        "print(list_var.__sizeof__())\n",
        "list_var = [17.2,5,6,5]\n",
        "print(list_var.__sizeof__())"
      ],
      "metadata": {
        "colab": {
          "base_uri": "https://localhost:8080/"
        },
        "id": "wH8Rsmfyj4cq",
        "outputId": "1759c6c1-8e10-48c4-bd9b-6e54e3867bc2"
      },
      "execution_count": null,
      "outputs": [
        {
          "output_type": "stream",
          "name": "stdout",
          "text": [
            "40\n",
            "72\n"
          ]
        }
      ]
    },
    {
      "cell_type": "markdown",
      "source": [
        "# Reusability"
      ],
      "metadata": {
        "id": "dSvj4rbvkHtg"
      }
    },
    {
      "cell_type": "code",
      "source": [
        "# List is not reusable hence old and new list has different id and size\n",
        "old_list =[ 10,20]\n",
        "old_list.append(6)\n",
        "print(old_list)\n",
        "print(id(old_list))\n",
        "print(old_list.__sizeof__())\n",
        "\n",
        "new_list = list(old_list)\n",
        "print(new_list)\n",
        "print(id(new_list))\n",
        "print(new_list.__sizeof__())"
      ],
      "metadata": {
        "colab": {
          "base_uri": "https://localhost:8080/"
        },
        "id": "enr8kN2ql52i",
        "outputId": "fe972769-a8bb-4b98-ada8-ba6e74437d5e"
      },
      "execution_count": null,
      "outputs": [
        {
          "output_type": "stream",
          "name": "stdout",
          "text": [
            "[10, 20, 6]\n",
            "134067848793664\n",
            "104\n",
            "[10, 20, 6]\n",
            "134068425204928\n",
            "72\n"
          ]
        }
      ]
    },
    {
      "cell_type": "code",
      "source": [
        "# Tuple is usable so the id and size remain same\n",
        "old_tuple = ( 10,20)\n",
        "old_tuple+=(6,)\n",
        "print(old_tuple)\n",
        "print(id(old_tuple))\n",
        "print(old_tuple.__sizeof__())\n",
        "\n",
        "new_tuple = tuple(old_tuple)\n",
        "print(new_tuple)\n",
        "print(id(new_tuple))\n",
        "print(new_tuple.__sizeof__())"
      ],
      "metadata": {
        "colab": {
          "base_uri": "https://localhost:8080/"
        },
        "id": "vNPgAIdfmCAD",
        "outputId": "e33f4887-e368-4e90-c78a-867d5ad9b3ca"
      },
      "execution_count": null,
      "outputs": [
        {
          "output_type": "stream",
          "name": "stdout",
          "text": [
            "(10, 20, 6)\n",
            "134067848849856\n",
            "48\n",
            "(10, 20, 6)\n",
            "134067848849856\n",
            "48\n"
          ]
        }
      ]
    },
    {
      "cell_type": "markdown",
      "source": [
        "# Exception handling\n",
        "Examples: TypeError, ValueError, ImportError, KeyError, IndexError, NameError, PermissionError, EOFError, ZeroDivisionError, StopIteration"
      ],
      "metadata": {
        "id": "98gn8aNCnROa"
      }
    },
    {
      "cell_type": "markdown",
      "source": [
        "try:\n",
        "  #Part which might cause an error\\\n",
        "except TypeError:\n",
        "  #What happens when error occurs in this case what happens\\\n",
        "else:\n",
        "  #What happens if the error does not occure | Optional\n"
      ],
      "metadata": {
        "id": "zE9Z_nSznS3y"
      }
    },
    {
      "cell_type": "markdown",
      "source": [
        "# Some changes in python 3.8"
      ],
      "metadata": {
        "id": "kIG1ZxtioN3D"
      }
    },
    {
      "cell_type": "code",
      "source": [
        "def sum (a,b,/,c=10):\n",
        "  return a+b+c\n",
        "sum(10,12,c=12)\n"
      ],
      "metadata": {
        "colab": {
          "base_uri": "https://localhost:8080/"
        },
        "id": "zq41q0KQoUft",
        "outputId": "4c655115-7c11-45fe-df46-fe575d059708"
      },
      "execution_count": null,
      "outputs": [
        {
          "output_type": "execute_result",
          "data": {
            "text/plain": [
              "34"
            ]
          },
          "metadata": {},
          "execution_count": 31
        }
      ]
    },
    {
      "cell_type": "code",
      "source": [
        "# Fstring\n",
        "a,b = 10,12\n",
        "f\"Sum of a and b is {a+b}\"\n",
        "f\"Value of c is {(c:= a+b)}\""
      ],
      "metadata": {
        "colab": {
          "base_uri": "https://localhost:8080/",
          "height": 36
        },
        "id": "qb5Lw8FKoeAl",
        "outputId": "81875b75-325f-42ac-9183-ce4afd4b3d95"
      },
      "execution_count": null,
      "outputs": [
        {
          "output_type": "execute_result",
          "data": {
            "text/plain": [
              "'Value of c is 22'"
            ],
            "application/vnd.google.colaboratory.intrinsic+json": {
              "type": "string"
            }
          },
          "metadata": {},
          "execution_count": 33
        }
      ]
    },
    {
      "cell_type": "markdown",
      "source": [
        "# Generators are good for calculating large sets of results where you don;t knkow if you are going to need all results, or where you don;t want to allocate memory for all results at the same time"
      ],
      "metadata": {
        "id": "xCF_Rj_uoyFG"
      }
    },
    {
      "cell_type": "code",
      "source": [
        "dataset = [10,20,30,40,50,60, 'keyword']\n",
        "\n",
        "def search_result(keyword):\n",
        "  for item in dataset:\n",
        "    if keyword in str(item):\n",
        "      yield item\n",
        "\n",
        "search_object = search_result('keyword')\n",
        "print(search_object.__next__())"
      ],
      "metadata": {
        "colab": {
          "base_uri": "https://localhost:8080/"
        },
        "id": "Me9O9ml5rmWW",
        "outputId": "db4d62b3-2a6d-4446-f286-77a9198ef6da"
      },
      "execution_count": null,
      "outputs": [
        {
          "output_type": "stream",
          "name": "stdout",
          "text": [
            "keyword\n"
          ]
        }
      ]
    },
    {
      "cell_type": "markdown",
      "source": [
        "When you call generator function the code written in function body does not run. The function only returns the generation object"
      ],
      "metadata": {
        "id": "vjwsxdV_qt6e"
      }
    },
    {
      "cell_type": "markdown",
      "source": [
        "# Exceptions"
      ],
      "metadata": {
        "id": "Vgz9r91zraMT"
      }
    },
    {
      "cell_type": "markdown",
      "source": [
        "Exception - even if a statement or expression is synthatically correct, it may cause an error when an attempt is made to execute it. Errors detects during execution are called exeption."
      ],
      "metadata": {
        "id": "w99KU3fUsjad"
      }
    },
    {
      "cell_type": "code",
      "source": [
        "while True:\n",
        "  try:\n",
        "    x = input(\"Please enter a number: \")\n",
        "    break\n",
        "  except ValueError:\n",
        "    print(\"Oops!! that was no valid number. Try again..\")"
      ],
      "metadata": {
        "id": "_Zf9kJrgtH1b",
        "colab": {
          "base_uri": "https://localhost:8080/"
        },
        "outputId": "39c8bcc0-f8dd-4343-c68e-a1cea005923a"
      },
      "execution_count": null,
      "outputs": [
        {
          "name": "stdout",
          "output_type": "stream",
          "text": [
            "Please enter a number: \n"
          ]
        }
      ]
    },
    {
      "cell_type": "code",
      "source": [
        "class B(Exception):\n",
        "  pass\n",
        "\n",
        "class C(B):\n",
        "  pass\n",
        "\n",
        "class D(C):\n",
        "  pass\n",
        "\n",
        "for cls in [B,C,D]:\n",
        "  try:\n",
        "    raise cls()\n",
        "  except B:\n",
        "    print('B')\n",
        "  except D:\n",
        "    print('D')\n",
        "  except C:\n",
        "    print('C')"
      ],
      "metadata": {
        "id": "rXoSQITftWw3",
        "colab": {
          "base_uri": "https://localhost:8080/"
        },
        "outputId": "a82c984b-51cf-4050-f15e-42f99ba8480d"
      },
      "execution_count": null,
      "outputs": [
        {
          "output_type": "stream",
          "name": "stdout",
          "text": [
            "B\n",
            "B\n",
            "B\n"
          ]
        }
      ]
    },
    {
      "cell_type": "markdown",
      "source": [
        "# Exceptions in the list"
      ],
      "metadata": {
        "id": "ks7Q0gxSvMYz"
      }
    },
    {
      "cell_type": "code",
      "source": [
        "try:\n",
        "  raise Exception('spam', 'eggs')\n",
        "except Exception as inst:\n",
        "  print(type(inst))\n",
        "  print(inst.args)\n",
        "  print(inst)\n",
        "\n",
        "  x, y= inst.args\n",
        "  print('x= ', x)\n",
        "  print('y= ',y)\n"
      ],
      "metadata": {
        "colab": {
          "base_uri": "https://localhost:8080/"
        },
        "id": "zWD90OXIv0j5",
        "outputId": "f3975673-fd70-4f30-f20e-9f44653fd55f"
      },
      "execution_count": null,
      "outputs": [
        {
          "output_type": "stream",
          "name": "stdout",
          "text": [
            "<class 'Exception'>\n",
            "('spam', 'eggs')\n",
            "('spam', 'eggs')\n",
            "x=  spam\n",
            "y=  eggs\n"
          ]
        }
      ]
    },
    {
      "cell_type": "code",
      "source": [
        "def divide(x,y):\n",
        "  try:\n",
        "    result = x/y\n",
        "  except ZeroDivisionError:\n",
        "    print(\"division by zero\")\n",
        "  else:\n",
        "    print(\"result is\", result)\n",
        "  finally:\n",
        "    print(\"Executing finally clause\")\n",
        "\n",
        "\n",
        "\n",
        "divide(2,0)"
      ],
      "metadata": {
        "colab": {
          "base_uri": "https://localhost:8080/"
        },
        "id": "a7MCBzcQwOQb",
        "outputId": "a7ff8c9c-43eb-47e7-dda5-eb8a517b68ce"
      },
      "execution_count": null,
      "outputs": [
        {
          "output_type": "stream",
          "name": "stdout",
          "text": [
            "division by zero\n",
            "Executing finally clause\n"
          ]
        }
      ]
    },
    {
      "cell_type": "markdown",
      "source": [
        "As you can see the finally clause is executed in any event. The typeerror raised by dividing two strings is not handled by the except clause and therefore re-raised after the finally clause has been executed"
      ],
      "metadata": {
        "id": "TQzUh6RdyclK"
      }
    },
    {
      "cell_type": "code",
      "source": [],
      "metadata": {
        "id": "AhJBQynNzTfo"
      },
      "execution_count": null,
      "outputs": []
    }
  ]
}
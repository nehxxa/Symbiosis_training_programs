{
  "nbformat": 4,
  "nbformat_minor": 0,
  "metadata": {
    "colab": {
      "provenance": [],
      "collapsed_sections": [
        "jDyrTH8R4ua_",
        "dkFBpe8e6MDe",
        "SJGxrLOmEWTu",
        "GPoBOWIs_7ND",
        "YaJQZDHfHvK1",
        "p0b6gWqaKv94",
        "7cQu7QwXO-F8",
        "fFs-lOMqPDzr",
        "AChPFENIQsOL",
        "RJffnP-tSIh_",
        "lsFD_XmsWV-T",
        "vUjTIpaWubUw"
      ],
      "authorship_tag": "ABX9TyMvdU3nZyYFMM4jAhs1Naka",
      "include_colab_link": true
    },
    "kernelspec": {
      "name": "python3",
      "display_name": "Python 3"
    },
    "language_info": {
      "name": "python"
    }
  },
  "cells": [
    {
      "cell_type": "markdown",
      "metadata": {
        "id": "view-in-github",
        "colab_type": "text"
      },
      "source": [
        "<a href=\"https://colab.research.google.com/github/nehxxa/Symbiosis_training_programs/blob/main/Symbiosis_Python_basics.ipynb\" target=\"_parent\"><img src=\"https://colab.research.google.com/assets/colab-badge.svg\" alt=\"Open In Colab\"/></a>"
      ]
    },
    {
      "cell_type": "code",
      "execution_count": null,
      "metadata": {
        "colab": {
          "base_uri": "https://localhost:8080/"
        },
        "id": "4lDVDf74ynnN",
        "outputId": "f169f669-33d6-4118-ba91-467d25344740"
      },
      "outputs": [
        {
          "output_type": "stream",
          "name": "stdout",
          "text": [
            "Enter your name: jkj\n",
            "jkj\n"
          ]
        }
      ],
      "source": [
        "name = str(input((\"Enter your name: \")))\n",
        "print(name)"
      ]
    },
    {
      "cell_type": "markdown",
      "source": [
        "# Birthday problem"
      ],
      "metadata": {
        "id": "b0r5Ftor3GJ-"
      }
    },
    {
      "cell_type": "code",
      "source": [
        "dob = str(input(\"Enter your date of birth: (dd-mm-yyyy)\"))\n",
        "day = dob[0:2]\n",
        "month = dob[3:5]\n",
        "year = dob[6:]\n",
        "print(\"Date of birth: \",dob)\n",
        "print(\"Birth year: \",year)\n",
        "age = 2024 - int(year)\n",
        "print(\"Your age: \", age)"
      ],
      "metadata": {
        "colab": {
          "base_uri": "https://localhost:8080/"
        },
        "id": "w7VJaXWB1AD5",
        "outputId": "6c2e5dbf-0a29-48c5-a483-324a5fc2440b"
      },
      "execution_count": null,
      "outputs": [
        {
          "output_type": "stream",
          "name": "stdout",
          "text": [
            "Enter your date of birth: (dd-mm-yyyy)10-07-2003\n",
            "Date of birth:  10-07-2003\n",
            "Birth year:  2003\n",
            "Your age:  21\n"
          ]
        }
      ]
    },
    {
      "cell_type": "markdown",
      "source": [
        "# For loop"
      ],
      "metadata": {
        "id": "jBmZSoCP3JCb"
      }
    },
    {
      "cell_type": "code",
      "source": [
        "phrase = \"Hello World\"\n",
        "pos =-1\n",
        "for letter in phrase:\n",
        "  print(\"The next letter is\", letter)\n",
        "  pos +=1\n",
        "  print(\"position\",pos)\n",
        "\n",
        "\n",
        "\n"
      ],
      "metadata": {
        "colab": {
          "base_uri": "https://localhost:8080/"
        },
        "id": "DpRAtl4H1pov",
        "outputId": "852188a8-fb66-4bcf-ccaa-085b7c662fe1"
      },
      "execution_count": null,
      "outputs": [
        {
          "output_type": "stream",
          "name": "stdout",
          "text": [
            "The next letter is H\n",
            "position 0\n",
            "The next letter is e\n",
            "position 1\n",
            "The next letter is l\n",
            "position 2\n",
            "The next letter is l\n",
            "position 3\n",
            "The next letter is o\n",
            "position 4\n",
            "The next letter is  \n",
            "position 5\n",
            "The next letter is W\n",
            "position 6\n",
            "The next letter is o\n",
            "position 7\n",
            "The next letter is r\n",
            "position 8\n",
            "The next letter is l\n",
            "position 9\n",
            "The next letter is d\n",
            "position 10\n"
          ]
        }
      ]
    },
    {
      "cell_type": "code",
      "source": [
        "phrase = \"Hello World\"\n",
        "pos =-1\n",
        "for letter in phrase:\n",
        "  pos +=1\n",
        "  if (pos%2 ==0):\n",
        "    print(\"The next letter is\", letter)\n",
        "    print(\"position\",pos)"
      ],
      "metadata": {
        "colab": {
          "base_uri": "https://localhost:8080/"
        },
        "id": "hJMaablS22s-",
        "outputId": "aca670bd-377a-45d2-f4cb-f0e24e9e1f9f"
      },
      "execution_count": null,
      "outputs": [
        {
          "output_type": "stream",
          "name": "stdout",
          "text": [
            "The next letter is H\n",
            "position 0\n",
            "The next letter is l\n",
            "position 2\n",
            "The next letter is o\n",
            "position 4\n",
            "The next letter is W\n",
            "position 6\n",
            "The next letter is r\n",
            "position 8\n",
            "The next letter is d\n",
            "position 10\n"
          ]
        }
      ]
    },
    {
      "cell_type": "code",
      "source": [
        "\n"
      ],
      "metadata": {
        "id": "Q5HqCyYF4kdA"
      },
      "execution_count": null,
      "outputs": []
    },
    {
      "cell_type": "markdown",
      "source": [
        "# Split"
      ],
      "metadata": {
        "id": "jDyrTH8R4ua_"
      }
    },
    {
      "cell_type": "code",
      "source": [
        "phrase = \"Hello Beautiful world!\"\n",
        "cnt = 0\n",
        "for word in phrase.split():\n",
        "  print(\"The next word is: \", word)\n",
        "  print(\"position\",cnt)\n",
        "  cnt +=1"
      ],
      "metadata": {
        "colab": {
          "base_uri": "https://localhost:8080/"
        },
        "id": "wPUODWA74v5-",
        "outputId": "b1f99891-533e-4be0-fd09-e451d26916fc"
      },
      "execution_count": null,
      "outputs": [
        {
          "output_type": "stream",
          "name": "stdout",
          "text": [
            "The next word is:  Hello\n",
            "position 0\n",
            "The next word is:  Beautiful\n",
            "position 1\n",
            "The next word is:  world!\n",
            "position 2\n"
          ]
        }
      ]
    },
    {
      "cell_type": "markdown",
      "source": [
        "# Accumulator variable"
      ],
      "metadata": {
        "id": "dkFBpe8e6MDe"
      }
    },
    {
      "cell_type": "code",
      "source": [
        "total =0\n",
        "for num in [1,2,4,10,20]:\n",
        "  total +=num\n",
        "print(\"total\", total)"
      ],
      "metadata": {
        "colab": {
          "base_uri": "https://localhost:8080/"
        },
        "id": "i8UBTvw75lns",
        "outputId": "feb1d2bb-ca5d-45f2-8c7a-4b8c75850667"
      },
      "execution_count": null,
      "outputs": [
        {
          "output_type": "stream",
          "name": "stdout",
          "text": [
            "total 37\n"
          ]
        }
      ]
    },
    {
      "cell_type": "markdown",
      "source": [
        "# Theory of python (Byte code, PVM, CPython, Jython, Iron python)"
      ],
      "metadata": {
        "id": "SJGxrLOmEWTu"
      }
    },
    {
      "cell_type": "markdown",
      "source": [
        "**Byte code:**\\\n",
        "Pthon compiles your source code into a byte code.\\\n",
        "Byte code is independent\\\n",
        "Source code is dependent\\\n",
        "Compilation is simple a translation step, and by code is a lower-leve, platform independent representation of your source code.\\\n",
        "Python process has right access in your machine. It stores byte code of programs in files with extention .pyc(Python compiled code)\\\n",
        "\n",
        "**Python virtual machine(PVM):**\\\n",
        "Once your program has been compiled to byte code it is shipped off for execution to something known and python virtual machine.\\\n",
        "PVM is just a big loop that iterates through your byte code.\\\n",
        "It is runtime machine of python.\\\n",
        "It's the component that truly runs your programs.\n",
        "\n",
        "**CPython:**\\\n",
        "The original and standard implementation of python is usually called Cpython when you want to contrast it with the other two. Its name comes from the fact that it is coded in ANSI C language code.\n",
        "\n",
        "**Jython:**\\\n",
        "Alternative for python.\\\n",
        "Integration with java.\\\n",
        "Java classes that do the following-\\\n",
        "Python source code- Java byte code - Java virtual machine\n",
        "\n",
        "**Iron Python:**\\\n",
        "Designed to allow python programs to integrate with applications coded to work with microsoft's .NET framework for windows as well as Mono open source equivalent for Linux .NET and its c# programming language\n",
        "\n",
        "**Just in time:**\\\n",
        "Runs faster than previous compilers\n",
        "\n",
        "**Frozen binaries:**\\\n",
        "Possible to turn your programs into true executables known as frozen binaries in pytho world"
      ],
      "metadata": {
        "id": "TMCZaOuH6Wv8"
      }
    },
    {
      "cell_type": "markdown",
      "source": [
        "# Introduction to python object type\n",
        "\n"
      ],
      "metadata": {
        "id": "GPoBOWIs_7ND"
      }
    },
    {
      "cell_type": "markdown",
      "source": [
        "1. programs are composed of muldules\n",
        "2. modules contain statements\n",
        "3. statemetns contain expressions\n",
        "4. expressions create and process objects\n",
        "\n",
        "** Built in objects:**\n",
        "1. Numbers\n",
        "2. Strings\n",
        "3. Lists\n",
        "5. Dictionaries\n",
        "6. Tuples\n",
        "7. Files\n",
        "8. Sets\n",
        "9. Other code types : Boolean, type, none\n",
        "10. Program unit types: Function, Module, class\n",
        "11. Implementation related types: Compiled code, Stack traceback"
      ],
      "metadata": {
        "id": "lrUzdNS4Hnf2"
      }
    },
    {
      "cell_type": "markdown",
      "source": [
        "# indexing"
      ],
      "metadata": {
        "id": "YaJQZDHfHvK1"
      }
    },
    {
      "cell_type": "code",
      "source": [
        "s = \"spam\""
      ],
      "metadata": {
        "id": "cLwvSjKCKTQi"
      },
      "execution_count": null,
      "outputs": []
    },
    {
      "cell_type": "code",
      "source": [
        "len(s)"
      ],
      "metadata": {
        "colab": {
          "base_uri": "https://localhost:8080/"
        },
        "id": "AZrrVNIcKVRs",
        "outputId": "7dafd1c5-873b-4b02-8673-2d36637e35b5"
      },
      "execution_count": null,
      "outputs": [
        {
          "output_type": "execute_result",
          "data": {
            "text/plain": [
              "4"
            ]
          },
          "metadata": {},
          "execution_count": 8
        }
      ]
    },
    {
      "cell_type": "code",
      "source": [
        "s[0]"
      ],
      "metadata": {
        "colab": {
          "base_uri": "https://localhost:8080/"
        },
        "id": "mM3i69R6KWg-",
        "outputId": "5de24aed-ec55-4f9d-b6a0-59e94a4c4d54"
      },
      "execution_count": null,
      "outputs": [
        {
          "output_type": "execute_result",
          "data": {
            "text/plain": [
              "'s'"
            ],
            "application/vnd.google.colaboratory.intrinsic+json": {
              "type": "string"
            }
          },
          "metadata": {},
          "execution_count": 9
        }
      ]
    },
    {
      "cell_type": "code",
      "source": [
        "s[len(s)-1]"
      ],
      "metadata": {
        "colab": {
          "base_uri": "https://localhost:8080/"
        },
        "id": "RuiMh3FfKXx4",
        "outputId": "50db78c4-f5ea-40ff-a19d-541f5613e6e4"
      },
      "execution_count": null,
      "outputs": [
        {
          "output_type": "execute_result",
          "data": {
            "text/plain": [
              "'m'"
            ],
            "application/vnd.google.colaboratory.intrinsic+json": {
              "type": "string"
            }
          },
          "metadata": {},
          "execution_count": 10
        }
      ]
    },
    {
      "cell_type": "code",
      "source": [
        "s[1:3]"
      ],
      "metadata": {
        "colab": {
          "base_uri": "https://localhost:8080/"
        },
        "id": "6vKs-6LhKaDz",
        "outputId": "653a7089-2def-4c54-f64c-a1832469315f"
      },
      "execution_count": null,
      "outputs": [
        {
          "output_type": "execute_result",
          "data": {
            "text/plain": [
              "'pa'"
            ],
            "application/vnd.google.colaboratory.intrinsic+json": {
              "type": "string"
            }
          },
          "metadata": {},
          "execution_count": 11
        }
      ]
    },
    {
      "cell_type": "code",
      "source": [
        "s[-3:-1]"
      ],
      "metadata": {
        "colab": {
          "base_uri": "https://localhost:8080/"
        },
        "id": "-UvsbssIKd_K",
        "outputId": "3055e2fb-b740-48e2-f934-6ca29c39d25c"
      },
      "execution_count": null,
      "outputs": [
        {
          "output_type": "execute_result",
          "data": {
            "text/plain": [
              "'pa'"
            ],
            "application/vnd.google.colaboratory.intrinsic+json": {
              "type": "string"
            }
          },
          "metadata": {},
          "execution_count": 12
        }
      ]
    },
    {
      "cell_type": "code",
      "source": [],
      "metadata": {
        "id": "VlVEAFkXKh4F"
      },
      "execution_count": null,
      "outputs": []
    },
    {
      "cell_type": "markdown",
      "source": [
        "# string operations"
      ],
      "metadata": {
        "id": "p0b6gWqaKv94"
      }
    },
    {
      "cell_type": "code",
      "source": [
        "s = \"spam\""
      ],
      "metadata": {
        "id": "ahT_Ig0wKyJ3"
      },
      "execution_count": null,
      "outputs": []
    },
    {
      "cell_type": "code",
      "source": [
        "print (s + 'xyz')\n",
        "s = s+'xyz'\n",
        "print(s)"
      ],
      "metadata": {
        "colab": {
          "base_uri": "https://localhost:8080/"
        },
        "id": "LK-8kSFJKz5g",
        "outputId": "027733f0-e629-4949-c837-173d83cf752e"
      },
      "execution_count": null,
      "outputs": [
        {
          "output_type": "stream",
          "name": "stdout",
          "text": [
            "spamxyz\n",
            "spamxyz\n"
          ]
        }
      ]
    },
    {
      "cell_type": "code",
      "source": [
        "s.replace('pa', 'dfdf')"
      ],
      "metadata": {
        "colab": {
          "base_uri": "https://localhost:8080/"
        },
        "id": "eocBIkGVK3eC",
        "outputId": "bf28cc95-36a8-48aa-e15b-de1ac17ceabc"
      },
      "execution_count": null,
      "outputs": [
        {
          "output_type": "execute_result",
          "data": {
            "text/plain": [
              "'sdfdfmxyz'"
            ],
            "application/vnd.google.colaboratory.intrinsic+json": {
              "type": "string"
            }
          },
          "metadata": {},
          "execution_count": 15
        }
      ]
    },
    {
      "cell_type": "code",
      "source": [
        "s.isalpha()"
      ],
      "metadata": {
        "colab": {
          "base_uri": "https://localhost:8080/"
        },
        "id": "1dUNvNscMT_N",
        "outputId": "02007520-7a25-4255-c8cd-2a19c0f0ceb1"
      },
      "execution_count": null,
      "outputs": [
        {
          "output_type": "execute_result",
          "data": {
            "text/plain": [
              "True"
            ]
          },
          "metadata": {},
          "execution_count": 16
        }
      ]
    },
    {
      "cell_type": "code",
      "source": [
        "s.isalnum()"
      ],
      "metadata": {
        "colab": {
          "base_uri": "https://localhost:8080/"
        },
        "id": "JvWb2oLyNp7V",
        "outputId": "a85e6c39-7b42-4994-d6f5-92a37e35a3c4"
      },
      "execution_count": null,
      "outputs": [
        {
          "output_type": "execute_result",
          "data": {
            "text/plain": [
              "True"
            ]
          },
          "metadata": {},
          "execution_count": 17
        }
      ]
    },
    {
      "cell_type": "code",
      "source": [
        "dir(s)"
      ],
      "metadata": {
        "colab": {
          "base_uri": "https://localhost:8080/"
        },
        "id": "BqqRj1LGNtHJ",
        "outputId": "35206f87-b1b5-460d-c700-26f28ab9f68f"
      },
      "execution_count": null,
      "outputs": [
        {
          "output_type": "execute_result",
          "data": {
            "text/plain": [
              "['__add__',\n",
              " '__class__',\n",
              " '__contains__',\n",
              " '__delattr__',\n",
              " '__dir__',\n",
              " '__doc__',\n",
              " '__eq__',\n",
              " '__format__',\n",
              " '__ge__',\n",
              " '__getattribute__',\n",
              " '__getitem__',\n",
              " '__getnewargs__',\n",
              " '__gt__',\n",
              " '__hash__',\n",
              " '__init__',\n",
              " '__init_subclass__',\n",
              " '__iter__',\n",
              " '__le__',\n",
              " '__len__',\n",
              " '__lt__',\n",
              " '__mod__',\n",
              " '__mul__',\n",
              " '__ne__',\n",
              " '__new__',\n",
              " '__reduce__',\n",
              " '__reduce_ex__',\n",
              " '__repr__',\n",
              " '__rmod__',\n",
              " '__rmul__',\n",
              " '__setattr__',\n",
              " '__sizeof__',\n",
              " '__str__',\n",
              " '__subclasshook__',\n",
              " 'capitalize',\n",
              " 'casefold',\n",
              " 'center',\n",
              " 'count',\n",
              " 'encode',\n",
              " 'endswith',\n",
              " 'expandtabs',\n",
              " 'find',\n",
              " 'format',\n",
              " 'format_map',\n",
              " 'index',\n",
              " 'isalnum',\n",
              " 'isalpha',\n",
              " 'isascii',\n",
              " 'isdecimal',\n",
              " 'isdigit',\n",
              " 'isidentifier',\n",
              " 'islower',\n",
              " 'isnumeric',\n",
              " 'isprintable',\n",
              " 'isspace',\n",
              " 'istitle',\n",
              " 'isupper',\n",
              " 'join',\n",
              " 'ljust',\n",
              " 'lower',\n",
              " 'lstrip',\n",
              " 'maketrans',\n",
              " 'partition',\n",
              " 'removeprefix',\n",
              " 'removesuffix',\n",
              " 'replace',\n",
              " 'rfind',\n",
              " 'rindex',\n",
              " 'rjust',\n",
              " 'rpartition',\n",
              " 'rsplit',\n",
              " 'rstrip',\n",
              " 'split',\n",
              " 'splitlines',\n",
              " 'startswith',\n",
              " 'strip',\n",
              " 'swapcase',\n",
              " 'title',\n",
              " 'translate',\n",
              " 'upper',\n",
              " 'zfill']"
            ]
          },
          "metadata": {},
          "execution_count": 18
        }
      ]
    },
    {
      "cell_type": "code",
      "source": [
        "help(s.replace)"
      ],
      "metadata": {
        "colab": {
          "base_uri": "https://localhost:8080/"
        },
        "id": "rzrZZSRZNyBV",
        "outputId": "9d43eced-42d2-46ef-e1de-a9aa6b16016f"
      },
      "execution_count": null,
      "outputs": [
        {
          "output_type": "stream",
          "name": "stdout",
          "text": [
            "Help on built-in function replace:\n",
            "\n",
            "replace(old, new, count=-1, /) method of builtins.str instance\n",
            "    Return a copy with all occurrences of substring old replaced by new.\n",
            "    \n",
            "      count\n",
            "        Maximum number of occurrences to replace.\n",
            "        -1 (the default value) means replace all occurrences.\n",
            "    \n",
            "    If the optional argument count is given, only the first count occurrences are\n",
            "    replaced.\n",
            "\n"
          ]
        }
      ]
    },
    {
      "cell_type": "markdown",
      "source": [
        "# Regular expression"
      ],
      "metadata": {
        "id": "7cQu7QwXO-F8"
      }
    },
    {
      "cell_type": "code",
      "source": [
        "import re"
      ],
      "metadata": {
        "id": "BoeEfSNYOBAx"
      },
      "execution_count": null,
      "outputs": []
    },
    {
      "cell_type": "code",
      "source": [
        "match = re.match('Hello [\\t]*(.*)world', 'Hello     Python world')\n",
        "match.group(1)"
      ],
      "metadata": {
        "colab": {
          "base_uri": "https://localhost:8080/"
        },
        "id": "3v7BgBqZOWv3",
        "outputId": "1686fce7-748b-43e4-d0d5-8f06b6848482"
      },
      "execution_count": null,
      "outputs": [
        {
          "output_type": "execute_result",
          "data": {
            "text/plain": [
              "'    Python '"
            ],
            "application/vnd.google.colaboratory.intrinsic+json": {
              "type": "string"
            }
          },
          "metadata": {},
          "execution_count": 21
        }
      ]
    },
    {
      "cell_type": "code",
      "source": [
        "match = re.match('/(.*)/(.*)/(.*)', '/usr/home/lumberjack')\n",
        "match.group()"
      ],
      "metadata": {
        "colab": {
          "base_uri": "https://localhost:8080/"
        },
        "id": "47Ah5pQoOl3t",
        "outputId": "886ebba7-ce9b-4b6a-993e-cc15bfc5096e"
      },
      "execution_count": null,
      "outputs": [
        {
          "output_type": "execute_result",
          "data": {
            "text/plain": [
              "'/usr/home/lumberjack'"
            ],
            "application/vnd.google.colaboratory.intrinsic+json": {
              "type": "string"
            }
          },
          "metadata": {},
          "execution_count": 22
        }
      ]
    },
    {
      "cell_type": "markdown",
      "source": [
        "# sequence operations"
      ],
      "metadata": {
        "id": "fFs-lOMqPDzr"
      }
    },
    {
      "cell_type": "code",
      "source": [
        "L = [123, 'spam', 1.23]\n",
        "len(L)"
      ],
      "metadata": {
        "colab": {
          "base_uri": "https://localhost:8080/"
        },
        "id": "JIWou6M2O4WL",
        "outputId": "368ff118-c386-4264-d174-ce176b432c99"
      },
      "execution_count": null,
      "outputs": [
        {
          "output_type": "execute_result",
          "data": {
            "text/plain": [
              "3"
            ]
          },
          "metadata": {},
          "execution_count": 23
        }
      ]
    },
    {
      "cell_type": "code",
      "source": [
        "L[0]"
      ],
      "metadata": {
        "colab": {
          "base_uri": "https://localhost:8080/"
        },
        "id": "l0SqSdhVPOUa",
        "outputId": "95915762-588f-43fc-b2eb-184711d5d068"
      },
      "execution_count": null,
      "outputs": [
        {
          "output_type": "execute_result",
          "data": {
            "text/plain": [
              "123"
            ]
          },
          "metadata": {},
          "execution_count": 24
        }
      ]
    },
    {
      "cell_type": "code",
      "source": [
        "L[-1]"
      ],
      "metadata": {
        "colab": {
          "base_uri": "https://localhost:8080/"
        },
        "id": "_Et-JX5kPP5N",
        "outputId": "3b05da07-6080-44bb-89fd-9ff57ece667e"
      },
      "execution_count": null,
      "outputs": [
        {
          "output_type": "execute_result",
          "data": {
            "text/plain": [
              "1.23"
            ]
          },
          "metadata": {},
          "execution_count": 25
        }
      ]
    },
    {
      "cell_type": "code",
      "source": [
        "L + [4,5,6]\n"
      ],
      "metadata": {
        "colab": {
          "base_uri": "https://localhost:8080/"
        },
        "id": "4GO6wHBPPRyz",
        "outputId": "a6bbfe32-6196-4ed3-8968-2def66e46ce3"
      },
      "execution_count": null,
      "outputs": [
        {
          "output_type": "execute_result",
          "data": {
            "text/plain": [
              "[123, 'spam', 1.23, 4, 5, 6]"
            ]
          },
          "metadata": {},
          "execution_count": 26
        }
      ]
    },
    {
      "cell_type": "code",
      "source": [
        "L.append('4,5,6')"
      ],
      "metadata": {
        "id": "HzR-mJhpPXcv"
      },
      "execution_count": null,
      "outputs": []
    },
    {
      "cell_type": "code",
      "source": [
        "print(L)"
      ],
      "metadata": {
        "colab": {
          "base_uri": "https://localhost:8080/"
        },
        "id": "Oi9G90BNQGKm",
        "outputId": "30fa637b-5606-46f5-bd8b-be508e9971e0"
      },
      "execution_count": null,
      "outputs": [
        {
          "output_type": "stream",
          "name": "stdout",
          "text": [
            "[123, 'spam', 1.23, '4,5,6']\n"
          ]
        }
      ]
    },
    {
      "cell_type": "code",
      "source": [
        "m = ['aa','bb','cc']"
      ],
      "metadata": {
        "id": "GCKex2VXQHdd"
      },
      "execution_count": null,
      "outputs": []
    },
    {
      "cell_type": "code",
      "source": [
        "\n",
        "m.sort()\n"
      ],
      "metadata": {
        "id": "81s3l3Z4Qo5C"
      },
      "execution_count": null,
      "outputs": []
    },
    {
      "cell_type": "code",
      "source": [
        "print(m.reverse())"
      ],
      "metadata": {
        "colab": {
          "base_uri": "https://localhost:8080/"
        },
        "id": "NP1qHUIbQp0t",
        "outputId": "ab420f96-6dba-4390-dfa7-d6c3b8cedb85"
      },
      "execution_count": null,
      "outputs": [
        {
          "output_type": "stream",
          "name": "stdout",
          "text": [
            "None\n"
          ]
        }
      ]
    },
    {
      "cell_type": "markdown",
      "source": [
        "# Nesting"
      ],
      "metadata": {
        "id": "AChPFENIQsOL"
      }
    },
    {
      "cell_type": "code",
      "source": [
        "m =[[1,2,3],[4,5,6],[6,7,8]]"
      ],
      "metadata": {
        "id": "U61pfdafRJeP"
      },
      "execution_count": null,
      "outputs": []
    },
    {
      "cell_type": "code",
      "source": [
        "m"
      ],
      "metadata": {
        "colab": {
          "base_uri": "https://localhost:8080/"
        },
        "id": "RatGpHnrRQRv",
        "outputId": "98677369-831c-46bc-c60d-c1eb9d36348e"
      },
      "execution_count": null,
      "outputs": [
        {
          "output_type": "execute_result",
          "data": {
            "text/plain": [
              "[[1, 2, 3], [4, 5, 6], [6, 7, 8]]"
            ]
          },
          "metadata": {},
          "execution_count": 33
        }
      ]
    },
    {
      "cell_type": "code",
      "source": [
        "m[1]"
      ],
      "metadata": {
        "colab": {
          "base_uri": "https://localhost:8080/"
        },
        "id": "LspzlijzRR1g",
        "outputId": "2ffa0177-2016-438c-ec04-dff04c8e84cb"
      },
      "execution_count": null,
      "outputs": [
        {
          "output_type": "execute_result",
          "data": {
            "text/plain": [
              "[4, 5, 6]"
            ]
          },
          "metadata": {},
          "execution_count": 34
        }
      ]
    },
    {
      "cell_type": "code",
      "source": [
        "m[1][2]"
      ],
      "metadata": {
        "colab": {
          "base_uri": "https://localhost:8080/"
        },
        "id": "VP8fe4BRRTkJ",
        "outputId": "9c5a1160-2785-496d-f6bb-f8d50769f540"
      },
      "execution_count": null,
      "outputs": [
        {
          "output_type": "execute_result",
          "data": {
            "text/plain": [
              "6"
            ]
          },
          "metadata": {},
          "execution_count": 35
        }
      ]
    },
    {
      "cell_type": "code",
      "source": [
        "m[0][2]"
      ],
      "metadata": {
        "colab": {
          "base_uri": "https://localhost:8080/"
        },
        "id": "C5-L4IzmRVkl",
        "outputId": "6735d449-8074-42b7-f01d-448a534838a1"
      },
      "execution_count": null,
      "outputs": [
        {
          "output_type": "execute_result",
          "data": {
            "text/plain": [
              "3"
            ]
          },
          "metadata": {},
          "execution_count": 36
        }
      ]
    },
    {
      "cell_type": "code",
      "source": [
        "col2 = [row[1] for row in m]\n",
        "col2\n"
      ],
      "metadata": {
        "colab": {
          "base_uri": "https://localhost:8080/"
        },
        "id": "J08L92ysRall",
        "outputId": "85194206-368e-46fb-abb2-25e030152972"
      },
      "execution_count": null,
      "outputs": [
        {
          "output_type": "execute_result",
          "data": {
            "text/plain": [
              "[2, 5, 7]"
            ]
          },
          "metadata": {},
          "execution_count": 37
        }
      ]
    },
    {
      "cell_type": "markdown",
      "source": [
        "# List comprehension"
      ],
      "metadata": {
        "id": "RJffnP-tSIh_"
      }
    },
    {
      "cell_type": "code",
      "source": [
        "[row[1] +1for row in m]"
      ],
      "metadata": {
        "colab": {
          "base_uri": "https://localhost:8080/"
        },
        "id": "4K_va3NMTOz9",
        "outputId": "3d29cca8-1a66-4f45-c673-cfc4e9514fbc"
      },
      "execution_count": null,
      "outputs": [
        {
          "output_type": "execute_result",
          "data": {
            "text/plain": [
              "[3, 6, 8]"
            ]
          },
          "metadata": {},
          "execution_count": 38
        }
      ]
    },
    {
      "cell_type": "code",
      "source": [
        "[row[1] for row in m if row[1]%2==0]"
      ],
      "metadata": {
        "colab": {
          "base_uri": "https://localhost:8080/"
        },
        "id": "wf79x0qZTTdp",
        "outputId": "629be839-911c-4e1d-ae04-09836c980e44"
      },
      "execution_count": null,
      "outputs": [
        {
          "output_type": "execute_result",
          "data": {
            "text/plain": [
              "[2]"
            ]
          },
          "metadata": {},
          "execution_count": 39
        }
      ]
    },
    {
      "cell_type": "code",
      "source": [
        "diag = [m[i][i] for i in [0,1,2]]\n",
        "diag"
      ],
      "metadata": {
        "colab": {
          "base_uri": "https://localhost:8080/"
        },
        "id": "pjFD3opjTZ3H",
        "outputId": "a6d150ee-06c9-44ca-ec6f-df4481560ff7"
      },
      "execution_count": null,
      "outputs": [
        {
          "output_type": "execute_result",
          "data": {
            "text/plain": [
              "[1, 5, 8]"
            ]
          },
          "metadata": {},
          "execution_count": 40
        }
      ]
    },
    {
      "cell_type": "code",
      "source": [
        "doubles = [c*2 for c in 'neha']\n",
        "doubles"
      ],
      "metadata": {
        "colab": {
          "base_uri": "https://localhost:8080/"
        },
        "id": "fqUoCIQYTkcW",
        "outputId": "f5e886fe-68eb-4678-9b25-bd6e1a63808b"
      },
      "execution_count": null,
      "outputs": [
        {
          "output_type": "execute_result",
          "data": {
            "text/plain": [
              "['nn', 'ee', 'hh', 'aa']"
            ]
          },
          "metadata": {},
          "execution_count": 41
        }
      ]
    },
    {
      "cell_type": "code",
      "source": [
        "list(map(sum,m))"
      ],
      "metadata": {
        "colab": {
          "base_uri": "https://localhost:8080/"
        },
        "id": "aZO-UM86TwLV",
        "outputId": "0ce79100-735a-4b1a-c351-df915f1bcd38"
      },
      "execution_count": null,
      "outputs": [
        {
          "output_type": "execute_result",
          "data": {
            "text/plain": [
              "[6, 15, 21]"
            ]
          },
          "metadata": {},
          "execution_count": 42
        }
      ]
    },
    {
      "cell_type": "code",
      "source": [
        "{sum(row) for row in m}"
      ],
      "metadata": {
        "colab": {
          "base_uri": "https://localhost:8080/"
        },
        "id": "8LZljf6EU_Mz",
        "outputId": "165f27ab-442c-4c82-f7a1-a596b2843128"
      },
      "execution_count": null,
      "outputs": [
        {
          "output_type": "execute_result",
          "data": {
            "text/plain": [
              "{6, 15, 21}"
            ]
          },
          "metadata": {},
          "execution_count": 43
        }
      ]
    },
    {
      "cell_type": "code",
      "source": [
        "{i: sum(m[i])for i in range (3)}"
      ],
      "metadata": {
        "colab": {
          "base_uri": "https://localhost:8080/"
        },
        "id": "tVX8Aav3VFyC",
        "outputId": "3e75d030-1db5-4583-ee78-94ebe552b955"
      },
      "execution_count": null,
      "outputs": [
        {
          "output_type": "execute_result",
          "data": {
            "text/plain": [
              "{0: 6, 1: 15, 2: 21}"
            ]
          },
          "metadata": {},
          "execution_count": 44
        }
      ]
    },
    {
      "cell_type": "code",
      "source": [
        "[ord(x) for x in 'spam']"
      ],
      "metadata": {
        "colab": {
          "base_uri": "https://localhost:8080/"
        },
        "id": "HGdNEU_OVbQZ",
        "outputId": "2683b5a5-1acc-4402-9d4f-d9719343b68d"
      },
      "execution_count": null,
      "outputs": [
        {
          "output_type": "execute_result",
          "data": {
            "text/plain": [
              "[115, 112, 97, 109]"
            ]
          },
          "metadata": {},
          "execution_count": 45
        }
      ]
    },
    {
      "cell_type": "code",
      "source": [
        "{ord(x) for x in 'spam'}"
      ],
      "metadata": {
        "colab": {
          "base_uri": "https://localhost:8080/"
        },
        "id": "7NV5aStnWBBJ",
        "outputId": "2c71d4d9-1955-4310-c6b4-7b7076b4fe59"
      },
      "execution_count": null,
      "outputs": [
        {
          "output_type": "execute_result",
          "data": {
            "text/plain": [
              "{97, 109, 112, 115}"
            ]
          },
          "metadata": {},
          "execution_count": 46
        }
      ]
    },
    {
      "cell_type": "code",
      "source": [
        "{x: ord(x) for x in 'spam'}"
      ],
      "metadata": {
        "colab": {
          "base_uri": "https://localhost:8080/"
        },
        "id": "yLdhoCUPWJKq",
        "outputId": "ccd6267d-4e29-4872-916c-7e142b5204ef"
      },
      "execution_count": null,
      "outputs": [
        {
          "output_type": "execute_result",
          "data": {
            "text/plain": [
              "{'s': 115, 'p': 112, 'a': 97, 'm': 109}"
            ]
          },
          "metadata": {},
          "execution_count": 47
        }
      ]
    },
    {
      "cell_type": "markdown",
      "source": [
        "# Mapping operations"
      ],
      "metadata": {
        "id": "lsFD_XmsWV-T"
      }
    },
    {
      "cell_type": "code",
      "source": [
        "d = {'food': 'spam', 'quantity': 4, 'color': 'pink'}"
      ],
      "metadata": {
        "id": "kfH8-lfwW1Nq"
      },
      "execution_count": null,
      "outputs": []
    },
    {
      "cell_type": "code",
      "source": [
        "d['food']"
      ],
      "metadata": {
        "colab": {
          "base_uri": "https://localhost:8080/",
          "height": 36
        },
        "id": "-xjZrd5vW4Q2",
        "outputId": "dd764461-6a5f-4b27-b4a8-54876d57f250"
      },
      "execution_count": null,
      "outputs": [
        {
          "output_type": "execute_result",
          "data": {
            "text/plain": [
              "'spam'"
            ],
            "application/vnd.google.colaboratory.intrinsic+json": {
              "type": "string"
            }
          },
          "metadata": {},
          "execution_count": 49
        }
      ]
    },
    {
      "cell_type": "code",
      "source": [
        "d['age'] =19"
      ],
      "metadata": {
        "id": "XndICAVSW7Kc"
      },
      "execution_count": null,
      "outputs": []
    },
    {
      "cell_type": "code",
      "source": [
        "d"
      ],
      "metadata": {
        "colab": {
          "base_uri": "https://localhost:8080/"
        },
        "id": "ATOT5qNOW-3p",
        "outputId": "87a49c46-4003-4d47-b011-f433080c7644"
      },
      "execution_count": null,
      "outputs": [
        {
          "output_type": "execute_result",
          "data": {
            "text/plain": [
              "{'food': 'spam', 'quantity': 4, 'color': 'pink', 'age': 19}"
            ]
          },
          "metadata": {},
          "execution_count": 51
        }
      ]
    },
    {
      "cell_type": "code",
      "source": [
        "d['age']"
      ],
      "metadata": {
        "colab": {
          "base_uri": "https://localhost:8080/"
        },
        "id": "cZUQxJaIW_as",
        "outputId": "611ea088-1c97-4bd1-d84a-5c6ebd30ab68"
      },
      "execution_count": null,
      "outputs": [
        {
          "output_type": "execute_result",
          "data": {
            "text/plain": [
              "19"
            ]
          },
          "metadata": {},
          "execution_count": 52
        }
      ]
    },
    {
      "cell_type": "code",
      "source": [
        "d ={}\n",
        "d['name'] = 'neha'\n",
        "d['age'] = 21"
      ],
      "metadata": {
        "id": "rS6izSyAXKqV"
      },
      "execution_count": null,
      "outputs": []
    },
    {
      "cell_type": "code",
      "source": [
        "d"
      ],
      "metadata": {
        "colab": {
          "base_uri": "https://localhost:8080/"
        },
        "id": "fVrfTQV1XrKY",
        "outputId": "4b3db46b-c8a3-4f6f-852c-06751e03f659"
      },
      "execution_count": null,
      "outputs": [
        {
          "output_type": "execute_result",
          "data": {
            "text/plain": [
              "{'name': 'neha', 'age': 21}"
            ]
          },
          "metadata": {},
          "execution_count": 54
        }
      ]
    },
    {
      "cell_type": "code",
      "source": [
        "dic = {'name': {'neha', 'sakshi', 'sahil'},\n",
        "       'age': {'21', '22'}, 'gender': {'female', 'male'}}\n",
        "print(dic)\n",
        "print(type(dic))"
      ],
      "metadata": {
        "colab": {
          "base_uri": "https://localhost:8080/"
        },
        "id": "5NPlwu7EXrpo",
        "outputId": "ca0fe276-f551-48a9-d95c-168ad588b704"
      },
      "execution_count": null,
      "outputs": [
        {
          "output_type": "stream",
          "name": "stdout",
          "text": [
            "{'name': {'neha', 'sakshi', 'sahil'}, 'age': {'22', '21'}, 'gender': {'female', 'male'}}\n",
            "<class 'dict'>\n"
          ]
        }
      ]
    },
    {
      "cell_type": "code",
      "source": [
        "name = list(dic['name'])"
      ],
      "metadata": {
        "id": "U5T_4P4EYdqC"
      },
      "execution_count": null,
      "outputs": []
    },
    {
      "cell_type": "code",
      "source": [
        "print(name[0])\n"
      ],
      "metadata": {
        "colab": {
          "base_uri": "https://localhost:8080/"
        },
        "id": "Mn2JXSYcYg0k",
        "outputId": "f7dfb877-6d21-4acd-ddf8-b52cb0d7801f"
      },
      "execution_count": null,
      "outputs": [
        {
          "output_type": "stream",
          "name": "stdout",
          "text": [
            "neha\n"
          ]
        }
      ]
    },
    {
      "cell_type": "code",
      "source": [
        "d = {'a': 1, 'b':2 , 'c':3}\n",
        "for key in d:\n",
        "  print(key, d[key])"
      ],
      "metadata": {
        "colab": {
          "base_uri": "https://localhost:8080/"
        },
        "id": "B22ZDFZ5ZaLg",
        "outputId": "9d7d6c12-ef4b-4705-fa6d-4cdaf338283a"
      },
      "execution_count": null,
      "outputs": [
        {
          "output_type": "stream",
          "name": "stdout",
          "text": [
            "a 1\n",
            "b 2\n",
            "c 3\n"
          ]
        }
      ]
    },
    {
      "cell_type": "code",
      "source": [
        "def generate_pascals_triangle(n):\n",
        "    triangle = []\n",
        "\n",
        "    for i in range(n):\n",
        "        row = [1] * (i + 1)\n",
        "        for j in range(1, i):\n",
        "            row[j] = triangle[i-1][j-1] + triangle[i-1][j]\n",
        "        triangle.append(row)\n",
        "\n",
        "    return triangle\n",
        "\n",
        "# Example usage:\n",
        "rows = 5\n",
        "pascals_triangle = generate_pascals_triangle(rows)\n",
        "for row in pascals_triangle:\n",
        "    print(row)"
      ],
      "metadata": {
        "colab": {
          "base_uri": "https://localhost:8080/"
        },
        "id": "2RRiApW-ZnAs",
        "outputId": "c972bf7b-4926-4db8-ee49-448100896c9d"
      },
      "execution_count": null,
      "outputs": [
        {
          "output_type": "stream",
          "name": "stdout",
          "text": [
            "[1]\n",
            "[1, 1]\n",
            "[1, 2, 1]\n",
            "[1, 3, 3, 1]\n",
            "[1, 4, 6, 4, 1]\n"
          ]
        }
      ]
    },
    {
      "cell_type": "code",
      "source": [
        "value = d.get('x', 0)"
      ],
      "metadata": {
        "id": "nw1U5amTc91k"
      },
      "execution_count": null,
      "outputs": []
    },
    {
      "cell_type": "code",
      "source": [
        "value"
      ],
      "metadata": {
        "colab": {
          "base_uri": "https://localhost:8080/"
        },
        "id": "HLxfZ4MDuYkM",
        "outputId": "c5b06e74-72bd-4e57-8242-4e584101780e"
      },
      "execution_count": null,
      "outputs": [
        {
          "output_type": "execute_result",
          "data": {
            "text/plain": [
              "0"
            ]
          },
          "metadata": {},
          "execution_count": 61
        }
      ]
    },
    {
      "cell_type": "markdown",
      "source": [
        "# Tuples"
      ],
      "metadata": {
        "id": "vUjTIpaWubUw"
      }
    },
    {
      "cell_type": "code",
      "source": [
        "t = (1,2,3,4,5)\n",
        "len(t)"
      ],
      "metadata": {
        "colab": {
          "base_uri": "https://localhost:8080/"
        },
        "id": "AQN68QJeugQR",
        "outputId": "f7b8955d-3ac6-45b3-e940-7452d283d49b"
      },
      "execution_count": null,
      "outputs": [
        {
          "output_type": "execute_result",
          "data": {
            "text/plain": [
              "5"
            ]
          },
          "metadata": {},
          "execution_count": 76
        }
      ]
    },
    {
      "cell_type": "code",
      "source": [
        "t +(6,7)"
      ],
      "metadata": {
        "colab": {
          "base_uri": "https://localhost:8080/"
        },
        "id": "HcZ3GKvDulFM",
        "outputId": "a61dc258-5458-495b-87ae-f574330c62ae"
      },
      "execution_count": null,
      "outputs": [
        {
          "output_type": "execute_result",
          "data": {
            "text/plain": [
              "(1, 2, 3, 4, 5, 6, 7)"
            ]
          },
          "metadata": {},
          "execution_count": 77
        }
      ]
    },
    {
      "cell_type": "code",
      "source": [
        "t[0]"
      ],
      "metadata": {
        "colab": {
          "base_uri": "https://localhost:8080/"
        },
        "id": "jOr88Pxbumjy",
        "outputId": "c0cc6ee0-3ed0-41af-bc31-1d8818eabf73"
      },
      "execution_count": null,
      "outputs": [
        {
          "output_type": "execute_result",
          "data": {
            "text/plain": [
              "1"
            ]
          },
          "metadata": {},
          "execution_count": 78
        }
      ]
    },
    {
      "cell_type": "code",
      "source": [
        "t[::-1]"
      ],
      "metadata": {
        "colab": {
          "base_uri": "https://localhost:8080/"
        },
        "id": "du_DrMmCuqbw",
        "outputId": "cdd40906-cdac-4237-c5fe-fafef15efec6"
      },
      "execution_count": null,
      "outputs": [
        {
          "output_type": "execute_result",
          "data": {
            "text/plain": [
              "(5, 4, 3, 2, 1)"
            ]
          },
          "metadata": {},
          "execution_count": 79
        }
      ]
    },
    {
      "cell_type": "code",
      "source": [
        "t.index(5)"
      ],
      "metadata": {
        "colab": {
          "base_uri": "https://localhost:8080/"
        },
        "id": "8Tf6MK5QuxRv",
        "outputId": "2bc74be3-12cd-4609-f7d4-5beeed3bed79"
      },
      "execution_count": null,
      "outputs": [
        {
          "output_type": "execute_result",
          "data": {
            "text/plain": [
              "4"
            ]
          },
          "metadata": {},
          "execution_count": 80
        }
      ]
    },
    {
      "cell_type": "code",
      "source": [
        "t.count(5)"
      ],
      "metadata": {
        "colab": {
          "base_uri": "https://localhost:8080/"
        },
        "id": "USSnTi6KvQJY",
        "outputId": "5db609aa-bf2d-4875-cd7d-288fd5939c7e"
      },
      "execution_count": null,
      "outputs": [
        {
          "output_type": "execute_result",
          "data": {
            "text/plain": [
              "1"
            ]
          },
          "metadata": {},
          "execution_count": 81
        }
      ]
    },
    {
      "cell_type": "code",
      "source": [
        "f = ('kdjfd', 2212, 'k',5)"
      ],
      "metadata": {
        "id": "u-_ts1VwvTsr"
      },
      "execution_count": null,
      "outputs": []
    },
    {
      "cell_type": "markdown",
      "source": [
        "# Files"
      ],
      "metadata": {
        "id": "ZBoOHQT-vV6S"
      }
    },
    {
      "cell_type": "code",
      "source": [
        "f = open('data.txt', 'w')"
      ],
      "metadata": {
        "id": "7I5PhcJyvkuI"
      },
      "execution_count": null,
      "outputs": []
    },
    {
      "cell_type": "code",
      "source": [
        "f.write('Hello World')"
      ],
      "metadata": {
        "colab": {
          "base_uri": "https://localhost:8080/"
        },
        "id": "BAXEEFpiwBC6",
        "outputId": "4b7c8c45-d41c-4f70-9c6f-0a4ec49e6718"
      },
      "execution_count": null,
      "outputs": [
        {
          "output_type": "execute_result",
          "data": {
            "text/plain": [
              "11"
            ]
          },
          "metadata": {},
          "execution_count": 86
        }
      ]
    },
    {
      "cell_type": "code",
      "source": [
        "f.close\n"
      ],
      "metadata": {
        "colab": {
          "base_uri": "https://localhost:8080/"
        },
        "id": "ZhxbXrxOwGEd",
        "outputId": "54a358ea-c867-4330-deee-0d3765be250a"
      },
      "execution_count": null,
      "outputs": [
        {
          "output_type": "execute_result",
          "data": {
            "text/plain": [
              "<function TextIOWrapper.close()>"
            ]
          },
          "metadata": {},
          "execution_count": 87
        }
      ]
    },
    {
      "cell_type": "code",
      "source": [
        "f = open('data.txt', 'a')"
      ],
      "metadata": {
        "id": "7DZ1kkDswHNu"
      },
      "execution_count": null,
      "outputs": []
    },
    {
      "cell_type": "code",
      "source": [
        "f.close()"
      ],
      "metadata": {
        "id": "NSNIP-yKxkfd"
      },
      "execution_count": null,
      "outputs": []
    },
    {
      "cell_type": "markdown",
      "source": [],
      "metadata": {
        "id": "zkpr7hXZw5ya"
      }
    },
    {
      "cell_type": "code",
      "source": [
        "f = open('data.txt')"
      ],
      "metadata": {
        "id": "LN0agaWdxxsH"
      },
      "execution_count": null,
      "outputs": []
    },
    {
      "cell_type": "code",
      "source": [],
      "metadata": {
        "id": "6U3SWnu-x777"
      },
      "execution_count": null,
      "outputs": []
    },
    {
      "cell_type": "code",
      "source": [
        "text = f.read()"
      ],
      "metadata": {
        "id": "JOHYS-jVw7Ld"
      },
      "execution_count": null,
      "outputs": []
    },
    {
      "cell_type": "code",
      "source": [
        "print(text)"
      ],
      "metadata": {
        "colab": {
          "base_uri": "https://localhost:8080/"
        },
        "id": "xPHy78vjw75M",
        "outputId": "ba20b48f-6b57-49ea-e864-82107466ab43"
      },
      "execution_count": null,
      "outputs": [
        {
          "output_type": "stream",
          "name": "stdout",
          "text": [
            "dkjfkdjfkdjfkdfdkjfkdjfkdjfkdf\n"
          ]
        }
      ]
    },
    {
      "cell_type": "code",
      "source": [
        "text.split()"
      ],
      "metadata": {
        "colab": {
          "base_uri": "https://localhost:8080/"
        },
        "id": "XiaRdvLNxBgK",
        "outputId": "6da4f100-547d-417b-94a6-6d837b188bec"
      },
      "execution_count": null,
      "outputs": [
        {
          "output_type": "execute_result",
          "data": {
            "text/plain": [
              "['dkjfkdjfkdjfkdfdkjfkdjfkdjfkdf']"
            ]
          },
          "metadata": {},
          "execution_count": 109
        }
      ]
    },
    {
      "cell_type": "code",
      "source": [
        "data = open('data.txt', 'rb').read()"
      ],
      "metadata": {
        "id": "zJAPwPCSyPBr"
      },
      "execution_count": null,
      "outputs": []
    },
    {
      "cell_type": "code",
      "source": [
        "data"
      ],
      "metadata": {
        "colab": {
          "base_uri": "https://localhost:8080/"
        },
        "id": "a9iR9RTAxDZj",
        "outputId": "46174fa5-01c9-4073-ec6f-a485528deee3"
      },
      "execution_count": null,
      "outputs": [
        {
          "output_type": "execute_result",
          "data": {
            "text/plain": [
              "b'dkjfkdjfkdjfkdfdkjfkdjfkdjfkdf'"
            ]
          },
          "metadata": {},
          "execution_count": 111
        }
      ]
    },
    {
      "cell_type": "code",
      "source": [
        "data[4:8]"
      ],
      "metadata": {
        "colab": {
          "base_uri": "https://localhost:8080/"
        },
        "id": "XCwvMw9Byr6c",
        "outputId": "55d19b66-4f34-43d8-ed90-9c0f9101dfa0"
      },
      "execution_count": null,
      "outputs": [
        {
          "output_type": "execute_result",
          "data": {
            "text/plain": [
              "b'kdjf'"
            ]
          },
          "metadata": {},
          "execution_count": 112
        }
      ]
    },
    {
      "cell_type": "code",
      "source": [
        "data = open('data.txt','rb').read()\n",
        "print(data)\n",
        "print('done')"
      ],
      "metadata": {
        "colab": {
          "base_uri": "https://localhost:8080/"
        },
        "id": "bblDbkq-yuDv",
        "outputId": "832c6504-0231-48c4-e8ec-1c61e2bc11a4"
      },
      "execution_count": null,
      "outputs": [
        {
          "output_type": "stream",
          "name": "stdout",
          "text": [
            "b'dkjfkdjfkdjfkdfdkjfkdjfkdjfkdf'\n",
            "done\n"
          ]
        }
      ]
    },
    {
      "cell_type": "markdown",
      "source": [
        "# Other core types"
      ],
      "metadata": {
        "id": "88yRC5GGzNRx"
      }
    },
    {
      "cell_type": "markdown",
      "source": [
        "**Set:**\\\n",
        "Sets for example are a recent addition to the language that are neither\n"
      ],
      "metadata": {
        "id": "xxMv7Nd_z6JD"
      }
    },
    {
      "cell_type": "code",
      "source": [
        "x = set('spam')"
      ],
      "metadata": {
        "id": "8dp_5R0l0AFS"
      },
      "execution_count": null,
      "outputs": []
    },
    {
      "cell_type": "code",
      "source": [
        "y = {'j','f','d'}\n",
        "x,y"
      ],
      "metadata": {
        "colab": {
          "base_uri": "https://localhost:8080/"
        },
        "id": "J3_1OMfG0RHK",
        "outputId": "1b3f154e-ca65-4cac-e757-39df95d70fca"
      },
      "execution_count": null,
      "outputs": [
        {
          "output_type": "execute_result",
          "data": {
            "text/plain": [
              "({'a', 'm', 'p', 's'}, {'d', 'f', 'j'})"
            ]
          },
          "metadata": {},
          "execution_count": 116
        }
      ]
    },
    {
      "cell_type": "code",
      "source": [
        "x & y"
      ],
      "metadata": {
        "colab": {
          "base_uri": "https://localhost:8080/"
        },
        "id": "vAioxEFV0XLJ",
        "outputId": "2589e5cb-da26-4744-9564-3c8b2f547fad"
      },
      "execution_count": null,
      "outputs": [
        {
          "output_type": "execute_result",
          "data": {
            "text/plain": [
              "set()"
            ]
          },
          "metadata": {},
          "execution_count": 118
        }
      ]
    },
    {
      "cell_type": "code",
      "source": [
        "x|y"
      ],
      "metadata": {
        "colab": {
          "base_uri": "https://localhost:8080/"
        },
        "id": "fB8e-pYN0ZHS",
        "outputId": "df2eb280-80c0-4716-8683-3085d08f6769"
      },
      "execution_count": null,
      "outputs": [
        {
          "output_type": "execute_result",
          "data": {
            "text/plain": [
              "{'a', 'd', 'f', 'j', 'm', 'p', 's'}"
            ]
          },
          "metadata": {},
          "execution_count": 119
        }
      ]
    },
    {
      "cell_type": "code",
      "source": [
        "x-y"
      ],
      "metadata": {
        "colab": {
          "base_uri": "https://localhost:8080/"
        },
        "id": "X7PZaF-m0dcN",
        "outputId": "8713a8de-26b9-4afd-f3f7-8caeae7eb018"
      },
      "execution_count": null,
      "outputs": [
        {
          "output_type": "execute_result",
          "data": {
            "text/plain": [
              "{'a', 'm', 'p', 's'}"
            ]
          },
          "metadata": {},
          "execution_count": 120
        }
      ]
    },
    {
      "cell_type": "code",
      "source": [
        "import decimal"
      ],
      "metadata": {
        "id": "2u2bOMwu0e4z"
      },
      "execution_count": null,
      "outputs": []
    },
    {
      "cell_type": "code",
      "source": [
        "d = decimal.Decimal('3.14')"
      ],
      "metadata": {
        "id": "OZJ-NaPQ1JPn"
      },
      "execution_count": null,
      "outputs": []
    },
    {
      "cell_type": "code",
      "source": [
        "d+1"
      ],
      "metadata": {
        "colab": {
          "base_uri": "https://localhost:8080/"
        },
        "id": "MRcptB-C1NIk",
        "outputId": "596330d3-3a6e-48d6-e75c-374ad6de7608"
      },
      "execution_count": null,
      "outputs": [
        {
          "output_type": "execute_result",
          "data": {
            "text/plain": [
              "Decimal('4.14')"
            ]
          },
          "metadata": {},
          "execution_count": 123
        }
      ]
    },
    {
      "cell_type": "code",
      "source": [
        "decimal.getcontext().prec = 2"
      ],
      "metadata": {
        "id": "VaiBU9cN1Oeq"
      },
      "execution_count": null,
      "outputs": []
    },
    {
      "cell_type": "code",
      "source": [
        "decimal.Decimal('1.00')/ decimal.Decimal('3.00')"
      ],
      "metadata": {
        "colab": {
          "base_uri": "https://localhost:8080/"
        },
        "id": "nnykoEkR1Tun",
        "outputId": "5a132954-7f0e-4f83-e27a-1c41526e85b4"
      },
      "execution_count": null,
      "outputs": [
        {
          "output_type": "execute_result",
          "data": {
            "text/plain": [
              "Decimal('0.3333333333333333333333333333')"
            ]
          },
          "metadata": {},
          "execution_count": 125
        }
      ]
    },
    {
      "cell_type": "code",
      "source": [
        "from fractions import Fraction\n"
      ],
      "metadata": {
        "id": "p6uYfxMq1e9T"
      },
      "execution_count": null,
      "outputs": []
    },
    {
      "cell_type": "code",
      "source": [
        "1>2 , 1<2"
      ],
      "metadata": {
        "colab": {
          "base_uri": "https://localhost:8080/"
        },
        "id": "6R8NZY8d1hYN",
        "outputId": "904cd53b-42c6-443b-f928-1edc8d223371"
      },
      "execution_count": null,
      "outputs": [
        {
          "output_type": "execute_result",
          "data": {
            "text/plain": [
              "(False, True)"
            ]
          },
          "metadata": {},
          "execution_count": 132
        }
      ]
    },
    {
      "cell_type": "code",
      "source": [
        "bool('spam')"
      ],
      "metadata": {
        "colab": {
          "base_uri": "https://localhost:8080/"
        },
        "id": "NpxM5qXS2AE-",
        "outputId": "62780ea8-3082-4247-f48c-ce00fe60ad49"
      },
      "execution_count": null,
      "outputs": [
        {
          "output_type": "execute_result",
          "data": {
            "text/plain": [
              "True"
            ]
          },
          "metadata": {},
          "execution_count": 133
        }
      ]
    },
    {
      "cell_type": "code",
      "source": [
        "if type(d) ==type([]):\n",
        "  print('yes')"
      ],
      "metadata": {
        "id": "VGm4hTaI2HON"
      },
      "execution_count": null,
      "outputs": []
    },
    {
      "cell_type": "code",
      "source": [
        "if type(L)==list:\n",
        "  print('yes')"
      ],
      "metadata": {
        "colab": {
          "base_uri": "https://localhost:8080/"
        },
        "id": "mqBiqgiU4MjX",
        "outputId": "ed5e958a-5307-4ac1-b2f3-83a18d5c930a"
      },
      "execution_count": null,
      "outputs": [
        {
          "output_type": "stream",
          "name": "stdout",
          "text": [
            "yes\n"
          ]
        }
      ]
    },
    {
      "cell_type": "code",
      "source": [
        "if isinstance(L,list):\n",
        "  print('yes')\n"
      ],
      "metadata": {
        "colab": {
          "base_uri": "https://localhost:8080/"
        },
        "id": "2hUgSFQH4Pcg",
        "outputId": "e41286c2-aed0-43ce-f849-59e66979d043"
      },
      "execution_count": null,
      "outputs": [
        {
          "output_type": "stream",
          "name": "stdout",
          "text": [
            "yes\n"
          ]
        }
      ]
    },
    {
      "cell_type": "markdown",
      "source": [
        "# Class"
      ],
      "metadata": {
        "id": "c_g7P76i4YZ-"
      }
    },
    {
      "cell_type": "code",
      "source": [
        "class worker:\n",
        "  def __init__(self, name, pay):\n",
        "    self.name = name\n",
        "    self.pay = pay\n",
        "\n",
        "  def last_name(self):\n",
        "    return self.name.split()[-1]\n",
        "\n",
        "  def give_raise(self, percent):\n",
        "    self.pay *= (1+percent)\n"
      ],
      "metadata": {
        "id": "iIejvwwN5q9L"
      },
      "execution_count": null,
      "outputs": []
    },
    {
      "cell_type": "code",
      "source": [
        "bob = worker('bob smith',5000)\n",
        "sue = worker('sue jones',6000)\n",
        "bob.last_name()"
      ],
      "metadata": {
        "colab": {
          "base_uri": "https://localhost:8080/",
          "height": 36
        },
        "id": "D6GrThGC5yOq",
        "outputId": "b2590213-8571-40b4-be21-417a8895619f"
      },
      "execution_count": null,
      "outputs": [
        {
          "output_type": "execute_result",
          "data": {
            "text/plain": [
              "'smith'"
            ],
            "application/vnd.google.colaboratory.intrinsic+json": {
              "type": "string"
            }
          },
          "metadata": {},
          "execution_count": 148
        }
      ]
    },
    {
      "cell_type": "code",
      "source": [
        "sue.last_name()"
      ],
      "metadata": {
        "colab": {
          "base_uri": "https://localhost:8080/",
          "height": 36
        },
        "id": "6kHAsReI7mIK",
        "outputId": "8a5236cd-cef2-4faf-c2db-1d44612f0668"
      },
      "execution_count": null,
      "outputs": [
        {
          "output_type": "execute_result",
          "data": {
            "text/plain": [
              "'jones'"
            ],
            "application/vnd.google.colaboratory.intrinsic+json": {
              "type": "string"
            }
          },
          "metadata": {},
          "execution_count": 149
        }
      ]
    },
    {
      "cell_type": "code",
      "source": [
        "sue.give_raise(.10)"
      ],
      "metadata": {
        "id": "Y8MwfEi18OxE"
      },
      "execution_count": null,
      "outputs": []
    },
    {
      "cell_type": "code",
      "source": [
        "sue.pay"
      ],
      "metadata": {
        "colab": {
          "base_uri": "https://localhost:8080/"
        },
        "id": "0YZaSJ1k8Y7g",
        "outputId": "fbd20d76-4000-4861-e74b-69cc6a6fb3d5"
      },
      "execution_count": null,
      "outputs": [
        {
          "output_type": "execute_result",
          "data": {
            "text/plain": [
              "6600.000000000001"
            ]
          },
          "metadata": {},
          "execution_count": 151
        }
      ]
    },
    {
      "cell_type": "markdown",
      "source": [
        "Expression operators\n",
        "+-*/>><<**&\n",
        "Builtin mathematical functions\n",
        "pow,"
      ],
      "metadata": {
        "id": "C0CE4VSk977z"
      }
    },
    {
      "cell_type": "markdown",
      "source": [
        "# Mixed data types and their conversion"
      ],
      "metadata": {
        "id": "8cQo-DzQ_yME"
      }
    },
    {
      "cell_type": "markdown",
      "source": [
        "Python converts operands to the type of the most complicate operands"
      ],
      "metadata": {
        "id": "Ae3z9Ps8_0g4"
      }
    },
    {
      "cell_type": "code",
      "source": [
        "\n",
        "a = 4\n",
        "b = 5.222\n",
        "b /(2.0+a)"
      ],
      "metadata": {
        "colab": {
          "base_uri": "https://localhost:8080/"
        },
        "id": "303StkGVACdw",
        "outputId": "3cf4454a-307a-4b44-aef9-a13c775f2bd2"
      },
      "execution_count": null,
      "outputs": [
        {
          "output_type": "execute_result",
          "data": {
            "text/plain": [
              "0.8703333333333334"
            ]
          },
          "metadata": {},
          "execution_count": 155
        }
      ]
    },
    {
      "cell_type": "code",
      "source": [
        "print(b/(2.0+a))"
      ],
      "metadata": {
        "colab": {
          "base_uri": "https://localhost:8080/"
        },
        "id": "lk9GWQrPAi2t",
        "outputId": "c27a0a73-6444-48fe-ca2a-cfe240f4131b"
      },
      "execution_count": null,
      "outputs": [
        {
          "output_type": "stream",
          "name": "stdout",
          "text": [
            "0.8703333333333334\n"
          ]
        }
      ]
    },
    {
      "cell_type": "code",
      "source": [],
      "metadata": {
        "id": "AHm7dfMkAsJs"
      },
      "execution_count": null,
      "outputs": []
    }
  ]
}